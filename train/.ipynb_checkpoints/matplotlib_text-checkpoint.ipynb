{
 "cells": [
  {
   "cell_type": "code",
   "execution_count": 1,
   "metadata": {},
   "outputs": [],
   "source": [
    "import matplotlib.pyplot as plt\n",
    "from tensorboardX import SummaryWriter\n",
    "import numpy as np\n",
    "writer = SummaryWriter()"
   ]
  },
  {
   "cell_type": "code",
   "execution_count": 14,
   "metadata": {},
   "outputs": [],
   "source": [
    "def summ_image(path, text, n_iter):\n",
    "    %matplotlib inline\n",
    "    im = plt.imread(path)\n",
    "\n",
    "    fig = plt.figure()\n",
    "    # plt.clf()\n",
    "    fig.add_subplot()\n",
    "    plt.imshow(im)\n",
    "    plt.tick_params(\n",
    "        axis='x',          # changes apply to the x-axis\n",
    "        which='both',      # both major and minor ticks are affected\n",
    "        bottom=False,      # ticks along the bottom edge are off\n",
    "        top=False,         # ticks along the top edge are off\n",
    "        labelbottom=False)\n",
    "    plt.tick_params(\n",
    "        axis='y',          # changes apply to the x-axis\n",
    "        which='both',      # both major and minor ticks are affected\n",
    "        bottom=False,      # ticks along the bottom edge are off\n",
    "        top=False,         # ticks along the top edge are off\n",
    "        labelleft=False)\n",
    "    t = plt.text(30, 50, text, fontsize=12)\n",
    "    t.set_bbox(dict(facecolor='white', alpha=0.8, edgecolor='red'))\n",
    "    fig.tight_layout(pad=0)\n",
    "    fig.canvas.draw()\n",
    "\n",
    "    # Now we can save it to a numpy array.\n",
    "    data = np.fromstring(fig.canvas.tostring_rgb(), dtype=np.uint8, sep='')\n",
    "    data = data.reshape(fig.canvas.get_width_height()[::-1] + (3,))\n",
    "    data = data.transpose((2,0,1))\n",
    "    \n",
    "    writer.add_image('Image', data)\n",
    "    plt.close()"
   ]
  },
  {
   "cell_type": "code",
   "execution_count": 15,
   "metadata": {},
   "outputs": [],
   "source": [
    "path1 = 'GroceryStoreDataset/dataset/train/Root/Onion/Yellow-Onion_001.jpg'\n",
    "path2 = 'GroceryStoreDataset/dataset/train/Root/Onion/Yellow-Onion_002.jpg'\n",
    "path3 = 'GroceryStoreDataset/dataset/train/Root/Onion/Yellow-Onion_003.jpg'"
   ]
  },
  {
   "cell_type": "code",
   "execution_count": 16,
   "metadata": {},
   "outputs": [
    {
     "name": "stderr",
     "output_type": "stream",
     "text": [
      "c:\\software\\intelpython3\\lib\\site-packages\\ipykernel_launcher.py:27: DeprecationWarning: The binary mode of fromstring is deprecated, as it behaves surprisingly on unicode inputs. Use frombuffer instead\n"
     ]
    }
   ],
   "source": [
    "summ_image(path1, 'abc1', 1)\n",
    "summ_image(path2, 'abc2', 2)\n",
    "summ_image(path3, 'abc3', 3)"
   ]
  },
  {
   "cell_type": "code",
   "execution_count": 40,
   "metadata": {},
   "outputs": [],
   "source": [
    "writer.close()"
   ]
  }
 ],
 "metadata": {
  "kernelspec": {
   "display_name": "Python 3",
   "language": "python",
   "name": "python3"
  },
  "language_info": {
   "codemirror_mode": {
    "name": "ipython",
    "version": 3
   },
   "file_extension": ".py",
   "mimetype": "text/x-python",
   "name": "python",
   "nbconvert_exporter": "python",
   "pygments_lexer": "ipython3",
   "version": "3.6.7"
  }
 },
 "nbformat": 4,
 "nbformat_minor": 2
}
